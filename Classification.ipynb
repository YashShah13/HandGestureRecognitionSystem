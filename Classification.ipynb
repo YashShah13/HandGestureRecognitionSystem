{
 "cells": [
  {
   "cell_type": "code",
   "execution_count": null,
   "metadata": {},
   "outputs": [],
   "source": [
    "import cv2"
   ]
  },
  {
   "cell_type": "code",
   "execution_count": null,
   "metadata": {},
   "outputs": [],
   "source": [
    "from keras.models import load_model\n",
    "import keras\n",
    "import numpy as np\n",
    "import pandas as pd"
   ]
  },
  {
   "cell_type": "code",
   "execution_count": null,
   "metadata": {},
   "outputs": [],
   "source": [
    "model=load_model(r\"B:\\Dataset\\labels\\model\\resent_3d_model\\resnetmodel.hdf5\")"
   ]
  },
  {
   "cell_type": "code",
   "execution_count": null,
   "metadata": {},
   "outputs": [],
   "source": [
    "vid= cv2.VideoCapture(0)\n",
    "vid.set(cv2.CAP_PROP_FRAME_WIDTH,400)\n",
    "vid.set(cv2.CAP_PROP_FRAME_HEIGHT,400)"
   ]
  },
  {
   "cell_type": "code",
   "execution_count": null,
   "metadata": {},
   "outputs": [],
   "source": [
    "labels = pd.read_csv(r\"B:\\Dataset\\labels\\jester-v1-labels.csv\", header = None)"
   ]
  },
  {
   "cell_type": "code",
   "execution_count": null,
   "metadata": {},
   "outputs": [],
   "source": [
    "from keyboard import Keyboard"
   ]
  },
  {
   "cell_type": "code",
   "execution_count": null,
   "metadata": {
    "scrolled": false
   },
   "outputs": [],
   "source": [
    "buffer = []\n",
    "cls = []\n",
    "predicted_value = 0\n",
    "final_label = \"\"\n",
    "i = 1\n",
    "while(vid.isOpened()):\n",
    "    ret, frame = vid.read()\n",
    "    if ret:\n",
    "        image = cv2.resize(frame, (96,64))\n",
    "        image = image/255.0\n",
    "        buffer.append(image)\n",
    "        if(i%16 == 0):\n",
    "            buffer = np.expand_dims(buffer,0)\n",
    "            predicted_value = np.argmax(model.predict(buffer))\n",
    "            cls = labels.iloc[predicted_value]\n",
    "            print(cls)\n",
    "            print(cls.iloc[0])\n",
    "            if(predicted_value == 0):\n",
    "                final_label = \"Swiping Left\"\n",
    "                Keyboard.key(Keyboard.VK_MEDIA_PREV_TRACK)\n",
    "            elif(predicted_value == 1):\n",
    "                final_label = \"Swiping Right\"\n",
    "                Keyboard.key(Keyboard.VK_MEDIA_NEXT_TRACK)\n",
    "            elif(predicted_value == 3):\n",
    "                final_label = \"Swiping Down\"\n",
    "                Keyboard.key(Keyboard.VK_VOLUME_DOWN)\n",
    "            elif(predicted_value == 2):\n",
    "                final_label = \"Swiping Up\"\n",
    "                Keyboard.key(Keyboard.VK_VOLUME_UP)\n",
    "            elif(predicted_value == 4):\n",
    "                final_label = \"Pushing Hand Away\"\n",
    "            elif(predicted_value == 5):\n",
    "                final_label = \"Pulling Hand in\"\n",
    "            elif(predicted_value == 6):\n",
    "                final_label = \"Sliding Two Fingers Left\"\n",
    "                Keyboard.key(Keyboard.VK_MEDIA_PREV_TRACK)\n",
    "            elif(predicted_value == 7):\n",
    "                final_label = \"Sliding Two Fingers Right\"\n",
    "                Keyboard.key(Keyboard.VK_MEDIA_NEXT_TRACK)\n",
    "            elif(predicted_value == 8):\n",
    "                final_label = \"Sliding Two Fingers Down\"\n",
    "                Keyboard.key(Keyboard.VK_VOLUME_DOWN)\n",
    "            elif(predicted_value == 9):\n",
    "                final_label = \"Sliding Two Fingers up\"\n",
    "                Keyboard.key(Keyboard.VK_VOLUME_UP)\n",
    "            elif(predicted_value == 10):\n",
    "                final_label = \"Pushing Two Fingers Away\"\n",
    "            elif(predicted_value == 11):\n",
    "                final_label = \"Pulling Two Fingers In\"\n",
    "            elif(predicted_value == 12):\n",
    "                final_label = \"Rolling Hand Forward\"\n",
    "            elif(predicted_value == 13):\n",
    "                final_label = \"Rolling Hand Backward\"\n",
    "            elif(predicted_value == 14):\n",
    "                final_label = \"Turning Hand Clockwise\"\n",
    "            elif(predicted_value == 15):\n",
    "                final_label = \"Turning Hand Counterclockwise\"\n",
    "            elif(predicted_value == 16):\n",
    "                final_label = \"Zooming In With Full Hand\"\n",
    "            elif(predicted_value == 17):\n",
    "                final_label = \"Zooming Out With Full Hand\"\n",
    "            elif(predicted_value == 18):\n",
    "                final_label = \"Zooming In With Two Fingers\"\n",
    "            elif(predicted_value == 19):\n",
    "                final_label = \"Zooming Out With Two Fingers\"\n",
    "            elif(predicted_value == 20):\n",
    "                final_label = \"Thumb Up\"\n",
    "                Keyboard.key(Keyboard.VK_VOLUME_MUTE)\n",
    "            elif(predicted_value == 21):\n",
    "                final_label = \"Thumb Down\"\n",
    "            elif(predicted_value == 22):\n",
    "                final_label = \"Shaking Hand\"\n",
    "                Keyboard.key(Keyboard.VK_VOLUME_MUTE)\n",
    "            elif(predicted_value == 23):\n",
    "                final_label = \"Stop Sign\"\n",
    "                Keyboard.key(Keyboard.VK_MEDIA_PLAY_PAUSE)\n",
    "            elif(predicted_value == 24):\n",
    "                final_label = \"Drumming Fingers\"\n",
    "                Keyboard.key(Keyboard.VK_MEDIA_PLAY_PAUSE)\n",
    "            elif(predicted_value == 25):\n",
    "                final_label = \"No gesture\"\n",
    "            else:\n",
    "                final_label = \"Doing other things\"\n",
    "            \n",
    "            cv2.imshow('frame',frame)\n",
    "            buffer = []\n",
    "        i = i+1\n",
    "        text = \"activity:{}\".format(final_label)\n",
    "        cv2.putText(frame, text, (20, 35), cv2.FONT_HERSHEY_SIMPLEX, 1.25, (0,255,0), 5)\n",
    "        cv2.imshow('frame',frame)\n",
    "    if cv2.waitKey(1) & 0xFF == ord('q'):\n",
    "        break\n",
    "vid.release()\n",
    "cv2.destroyALLWindows()\n",
    "                "
   ]
  },
  {
   "cell_type": "code",
   "execution_count": null,
   "metadata": {},
   "outputs": [],
   "source": []
  }
 ],
 "metadata": {
  "kernelspec": {
   "display_name": "Python 3",
   "language": "python",
   "name": "python3"
  },
  "language_info": {
   "codemirror_mode": {
    "name": "ipython",
    "version": 3
   },
   "file_extension": ".py",
   "mimetype": "text/x-python",
   "name": "python",
   "nbconvert_exporter": "python",
   "pygments_lexer": "ipython3",
   "version": "3.8.2"
  }
 },
 "nbformat": 4,
 "nbformat_minor": 4
}
